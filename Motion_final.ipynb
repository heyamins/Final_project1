{
 "cells": [
  {
   "cell_type": "markdown",
   "id": "4dfb70d6",
   "metadata": {},
   "source": [
    "# below codes are obsolete"
   ]
  },
  {
   "cell_type": "markdown",
   "id": "475a17bd",
   "metadata": {},
   "source": [
    "### Function for plotting by time (50Hz)"
   ]
  },
  {
   "cell_type": "code",
   "execution_count": null,
   "id": "e18b47e6",
   "metadata": {},
   "outputs": [],
   "source": [
    "\n",
    "def plot_movement(file_path, sample_rate=50):\n",
    "    df = pd.read_csv('./Motion/'+file_path)\n",
    "    time = np.linspace(0, len(df)/sample_rate, len(df))\n",
    "\n",
    "    fig, axs = plt.subplots(3, 4, figsize=(20, 15))  # 3 rows for x, y, z axes and 4 columns for the four graphs\n",
    "    \n",
    "    for i, axis in enumerate(['x', 'y', 'z']):\n",
    "        acceleration = df[f'userAcceleration.{axis}']\n",
    "        velocity = cumtrapz(acceleration, dx=1/sample_rate, initial=0)\n",
    "        position = cumtrapz(velocity, dx=1/sample_rate, initial=0)\n",
    "        sp = np.fft.fft(acceleration)\n",
    "        freq = np.fft.fftfreq(len(sp), 1 / sample_rate)\n",
    "        \n",
    "        data = [acceleration, velocity, position, sp]  # List of data for the four graphs\n",
    "        titles = ['Acceleration', 'Velocity', 'Position', 'Frequency Analysis']\n",
    "        ylabels = ['Acceleration (m/s^2)', 'Velocity (m/s)', 'Position (m)', 'Amplitude']\n",
    "        \n",
    "        for j in range(4):\n",
    "            ax = axs[i, j]\n",
    "            if j < 3:  # For Acceleration, Velocity, and Position\n",
    "                ax.plot(time, data[j], label=f'{titles[j]} ({axis.upper()}-axis)')\n",
    "                ax.set_xlabel('Time (s)')\n",
    "            else:  # For Frequency Analysis\n",
    "                ax.plot(freq[freq > 0], np.abs(data[j][freq > 0]), label=f'FFT ({axis.upper()}-axis)')\n",
    "                ax.set_xlabel('Frequency (Hz)')\n",
    "            ax.set_title(f'{titles[j]} ({axis.upper()}-axis)')\n",
    "            ax.set_ylabel(ylabels[j])\n",
    "            ax.legend()\n",
    "    \n",
    "    #plt.tight_layout()\n",
    "    plt.show()\n",
    "\n",
    "plot_movement('jog_9/sub_7.csv')"
   ]
  },
  {
   "cell_type": "markdown",
   "id": "3dbc67d6",
   "metadata": {},
   "source": [
    "### function for plotting with Acc + Gravity "
   ]
  },
  {
   "cell_type": "code",
   "execution_count": null,
   "id": "0e4147f8",
   "metadata": {},
   "outputs": [],
   "source": [
    "def plot_movement_grav(file_path, sample_rate=50):\n",
    "    df = pd.read_csv('./Motion/'+file_path)\n",
    "    df['label'] = file_path[:3]\n",
    "    time = np.linspace(0, len(df)/sample_rate, len(df))\n",
    "\n",
    "    fig, axs = plt.subplots(3, 4, figsize=(20, 15))  # 3 rows for x, y, z axes and 4 columns for the four graphs\n",
    "    \n",
    "    # title coming from the file_path format (jog_16/sub_7.csv)\n",
    "    activity = file_path.split('/')[0].upper()\n",
    "    person = file_path.split('/')[-1].upper()[:5]\n",
    "    full_title = f\"{activity} ({person})\"\n",
    "    fig.suptitle(full_title,fontsize=40)\n",
    "    \n",
    "    for i, axis in enumerate(['x', 'y', 'z']):\n",
    "        df[f'Acceleration.{axis}'] = df[f'gravity.{axis}']+df[f'userAcceleration.{axis}']\n",
    "        # acceleration = df[f'Acceleration.{axis}']\n",
    "        acceleration = highpass_filter(df[f'Acceleration.{axis}'], cutoff=0.1, fs=50)\n",
    "        velocity = cumtrapz(acceleration, dx=1/sample_rate, initial=0)\n",
    "        position = cumtrapz(velocity, dx=1/sample_rate, initial=0)\n",
    "        sp = np.fft.fft(acceleration)\n",
    "        freq = np.fft.fftfreq(len(sp), 1 / sample_rate)\n",
    "        \n",
    "        data = [acceleration, velocity, position, sp]  # List of data for the four graphs\n",
    "        titles = ['Acceleration', 'Velocity', 'Position', 'Frequency Analysis']\n",
    "        ylabels = ['Acceleration (m/s^2)', 'Velocity (m/s)', 'Position (m)', 'Amplitude']\n",
    "        \n",
    "        for j in range(4):\n",
    "            ax = axs[i, j]\n",
    "            if j < 3:  # For Acceleration, Velocity, and Position\n",
    "                ax.plot(time, data[j], label=f'{titles[j]} ({axis.upper()}-axis)')\n",
    "                ax.set_xlabel('Time (s)')\n",
    "            else:  # For Frequency Analysis\n",
    "                ax.plot(freq[freq > 0], np.abs(data[j][freq > 0]), label=f'FFT ({axis.upper()}-axis)')\n",
    "                ax.set_xlabel('Frequency (Hz)')\n",
    "            ax.set_title(f'{titles[j]} ({axis.upper()}-axis)')\n",
    "            ax.set_ylabel(ylabels[j])\n",
    "            ax.legend()\n",
    "    \n",
    "    #plt.tight_layout()\n",
    "    plt.show()\n",
    "\n",
    "# Run the function on the dataset\n",
    "plot_movement_grav('jog_9/sub_7.csv')"
   ]
  },
  {
   "cell_type": "markdown",
   "id": "ed27b6e3",
   "metadata": {},
   "source": [
    "### Additional lines to annotate dominant frequency and amplitude\n"
   ]
  },
  {
   "cell_type": "code",
   "execution_count": null,
   "id": "f13639ec",
   "metadata": {},
   "outputs": [],
   "source": [
    "...\n",
    "else:  # For Frequency Analysis\n",
    "    ax.plot(freq[freq > 0], np.abs(data[j][freq > 0]), label=f'FFT ({axis.upper()}-axis)')\n",
    "    ax.set_xlabel('Frequency (Hz)')\n",
    "    \n",
    "    # Additional lines to annotate dominant frequency and amplitude\n",
    "    pos_freq = freq[freq > 0]\n",
    "    pos_sp = np.abs(sp[freq > 0])\n",
    "    dominant_frequency = pos_freq[np.argmax(pos_sp)]\n",
    "    amplitude_at_dominant_frequency = np.max(pos_sp)\n",
    "    ax.annotate(f'Dominant Frequency: {dominant_frequency:.2f} Hz\\nAmplitude: {amplitude_at_dominant_frequency:.2f}', \n",
    "                xy=(dominant_frequency, amplitude_at_dominant_frequency), \n",
    "                xytext=(dominant_frequency + 1, amplitude_at_dominant_frequency),\n",
    "                arrowprops=dict(facecolor='red', arrowstyle='->'),\n",
    "                fontsize=12,\n",
    "                color='red')\n",
    "...\n"
   ]
  },
  {
   "cell_type": "code",
   "execution_count": null,
   "id": "5860d559",
   "metadata": {},
   "outputs": [],
   "source": [
    "#nested for loop\n",
    "for i, axis in enumerate(['x', 'y', 'z']):\n",
    "    for j in range(4):\n",
    "        print('Row '+str(i),'Axis '+axis,'Col(Acc, Vel, Pos, Freq) '+str(j))"
   ]
  },
  {
   "cell_type": "markdown",
   "id": "c3c34e2b",
   "metadata": {},
   "source": [
    "## FFT feature extraction"
   ]
  },
  {
   "cell_type": "code",
   "execution_count": null,
   "id": "e19e11bf",
   "metadata": {},
   "outputs": [],
   "source": [
    "def extract_fft_features(file_path, sample_rate=50):\n",
    "    df = pd.read_csv('./Motion/'+file_path)\n",
    "    activity_label = file_path.split('/')[0]\n",
    "    person_id = file_path.split('/')[-1].split('_')[1].split('.')[0]\n",
    "\n",
    "    fft_features = {}\n",
    "    fft_features['activity'] = activity_label\n",
    "    fft_features['person_id'] = person_id\n",
    "\n",
    "    for axis in ['x', 'y', 'z']:\n",
    "        df[f'Acceleration.{axis}'] = df[f'gravity.{axis}'] + df[f'userAcceleration.{axis}']\n",
    "        acceleration = highpass_filter(df[f'Acceleration.{axis}'], cutoff=0.1, fs=50)\n",
    "\n",
    "        sp = np.fft.fft(acceleration)\n",
    "        freq = np.fft.fftfreq(len(sp), 1 / sample_rate)\n",
    "\n",
    "        # Assuming the FFT is symmetrical, only consider the positive part\n",
    "        pos_freq = freq[freq > 0]\n",
    "        pos_sp = np.abs(sp[freq > 0])\n",
    "\n",
    "        # Get the dominant frequency and its amplitude\n",
    "        dominant_frequency = pos_freq[np.argmax(pos_sp)]\n",
    "        amplitude_at_dominant_frequency = np.max(pos_sp)\n",
    "\n",
    "        fft_features[f'dominant_frequency_{axis}'] = dominant_frequency\n",
    "        fft_features[f'amplitude_at_dominant_frequency_{axis}'] = amplitude_at_dominant_frequency\n",
    "\n",
    "    return fft_features\n",
    "\n",
    "# Example usage:\n",
    "file_path = 'jog_9/sub_7.csv'\n",
    "fft_features = extract_fft_features(file_path)\n",
    "print(fft_features)\n"
   ]
  },
  {
   "cell_type": "code",
   "execution_count": null,
   "id": "37a8439b",
   "metadata": {},
   "outputs": [],
   "source": []
  },
  {
   "cell_type": "code",
   "execution_count": null,
   "id": "217793e1",
   "metadata": {},
   "outputs": [],
   "source": []
  },
  {
   "cell_type": "code",
   "execution_count": null,
   "id": "350fa0c1",
   "metadata": {},
   "outputs": [],
   "source": []
  },
  {
   "cell_type": "markdown",
   "id": "08eb87e4",
   "metadata": {},
   "source": [
    "## ------save--------"
   ]
  },
  {
   "cell_type": "code",
   "execution_count": null,
   "id": "cc2c7d2a",
   "metadata": {},
   "outputs": [],
   "source": []
  },
  {
   "cell_type": "code",
   "execution_count": null,
   "id": "09d347bb",
   "metadata": {},
   "outputs": [],
   "source": []
  },
  {
   "cell_type": "code",
   "execution_count": null,
   "id": "2e121384",
   "metadata": {},
   "outputs": [],
   "source": []
  },
  {
   "cell_type": "markdown",
   "id": "de5b9718",
   "metadata": {},
   "source": [
    "## ----Code Starts from here----"
   ]
  },
  {
   "cell_type": "code",
   "execution_count": null,
   "id": "1d99e1af",
   "metadata": {},
   "outputs": [],
   "source": []
  },
  {
   "cell_type": "markdown",
   "id": "59febdb7",
   "metadata": {},
   "source": [
    "Total Acceleration=Gravity+User Acceleration\n",
    "\n",
    "Velocity: We'll integrate the acceleration data to obtain velocity. For the integration, we'll need to know the time interval between each data point. Could you please provide this information?\n",
    "\n",
    "Position: After getting the velocity, we'll integrate again to obtain the position.\n",
    "\n",
    "Energy: Kinetic energy is given by E = 1/2mv2\n",
    "\n",
    "Dominant Frequencies: Fast Fourier Transform (FFT) on the acceleration data to find the dominant frequencies.\n"
   ]
  },
  {
   "cell_type": "code",
   "execution_count": null,
   "id": "e611738f",
   "metadata": {},
   "outputs": [],
   "source": [
    "import pandas as pd\n",
    "import numpy as np\n",
    "import matplotlib.pyplot as plt\n",
    "from scipy.integrate import cumtrapz\n",
    "from scipy.fftpack import fft\n",
    "\n",
    "#for png file save\n",
    "import os\n",
    "\n",
    "#for ML\n",
    "from sklearn.ensemble import RandomForestClassifier\n",
    "from sklearn.model_selection import train_test_split\n",
    "from sklearn.metrics import accuracy_score"
   ]
  },
  {
   "cell_type": "markdown",
   "id": "e4608e49",
   "metadata": {},
   "source": [
    "### Accelerometer integration showed huge drifts \n",
    "### How can I correct this??\n",
    "- Trick 1 : Sum Gravity + userAcceleration\n",
    "- Trick 2 : Apply High pass filter"
   ]
  },
  {
   "cell_type": "code",
   "execution_count": null,
   "id": "70cdd1f4",
   "metadata": {},
   "outputs": [],
   "source": [
    "# High pass filter\n",
    "\n",
    "import numpy as np\n",
    "from scipy.signal import butter, filtfilt\n",
    "\n",
    "def butter_highpass(cutoff, fs, order=5):\n",
    "    nyq = 0.5 * fs\n",
    "    normal_cutoff = cutoff / nyq\n",
    "    b, a = butter(order, normal_cutoff, btype='high', analog=False)\n",
    "    return b, a\n",
    "\n",
    "def highpass_filter(data, cutoff, fs, order=5):\n",
    "    b, a = butter_highpass(cutoff, fs, order=order)\n",
    "    y = filtfilt(b, a, data)\n",
    "    return y"
   ]
  },
  {
   "cell_type": "markdown",
   "id": "f228e53e",
   "metadata": {},
   "source": [
    "### I want to do frequency analysis, and adding annotation in my frequency plots"
   ]
  },
  {
   "cell_type": "code",
   "execution_count": null,
   "id": "690c8d35",
   "metadata": {},
   "outputs": [],
   "source": [
    "# High pass filter\n",
    "# Acc = (Gravity + UserAcc)\n",
    "# Annotation for dominent frequency\n",
    "# Add dotted line for average velocity \n",
    "# Add annotation for max velocity moment (just for fun)\n",
    "\n",
    "def plot_movement_grav_HF_anno(file_path, folder_to_save, sample_rate=50):\n",
    "    df = pd.read_csv('./Motion/'+file_path)\n",
    "    df['label'] = file_path[:3]\n",
    "    time = np.linspace(0, len(df)/sample_rate, len(df))\n",
    "\n",
    "    fig, axs = plt.subplots(3, 4, figsize=(20, 15))  # 3 rows for x, y, z axes and 4 columns for the four graphs\n",
    "    \n",
    "    # title coming from the file_path format (jog_16/sub_7.csv)\n",
    "    activity = file_path.split('/')[0].upper()\n",
    "    person = file_path.split('/')[-1][4:].replace('.csv','')\n",
    "    full_title = f\"{activity} (#{person})\"\n",
    "    fig.suptitle(full_title,fontsize=40)\n",
    "    \n",
    "    for i, axis in enumerate(['x', 'y', 'z']):\n",
    "        df[f'Acceleration.{axis}'] = df[f'gravity.{axis}']+df[f'userAcceleration.{axis}']\n",
    "        \n",
    "        # acceleration = df[f'Acceleration.{axis}']\n",
    "        acceleration = highpass_filter(df[f'Acceleration.{axis}'], cutoff=0.1, fs=50)\n",
    "        velocity = cumtrapz(acceleration, dx=1/sample_rate, initial=0)\n",
    "        position = cumtrapz(velocity, dx=1/sample_rate, initial=0)\n",
    "        sp = np.fft.fft(acceleration)\n",
    "        freq = np.fft.fftfreq(len(sp), 1 / sample_rate)\n",
    "        \n",
    "        data = [acceleration, velocity, position, sp]  # List of data for the four graphs\n",
    "        titles = ['Acceleration', 'Velocity', 'Position', 'Frequency Analysis']\n",
    "        ylabels = ['Acceleration (m/s^2)', 'Velocity (m/s)', 'Position (m)', 'Amplitude']\n",
    "        \n",
    "        for j in range(4):\n",
    "            ax = axs[i, j]\n",
    "            if j < 3:  # For Acceleration, Velocity, and Position\n",
    "                ax.plot(time, data[j], label=f'{titles[j]} ({axis.upper()}-axis)')\n",
    "                ax.set_xlabel('Time (s)')\n",
    "                ax.legend()\n",
    "                # Add average line for velocity plot\n",
    "                if titles[j] == 'Velocity':\n",
    "                    avg_velocity = np.mean(data[j])\n",
    "                    ax.axhline(y = avg_velocity, color = 'r', linestyle='--',label =f'Average Velocity = {avg_velocity:.2f}')\n",
    "                \n",
    "                    # Add annotation for max velocity moment (just for fun)\n",
    "                    # Find max velocity and its corresponding time\n",
    "                    max_velocity = np.max(data[j])\n",
    "                    time_at_max_velocity = time[np.argmax(data[j])]\n",
    "\n",
    "                    # Add annotation for max velocity\n",
    "                    ax.annotate(f'Max = {max_velocity:.2f}',\n",
    "                            xy=(time_at_max_velocity, max_velocity),\n",
    "                            xytext=(time_at_max_velocity + 3, max_velocity),\n",
    "                            arrowprops=dict(facecolor='red', arrowstyle='->'),\n",
    "                            fontsize=15,\n",
    "                            color='red',horizontalalignment='left', verticalalignment='top')\n",
    "                \n",
    "                \n",
    "            else:  # For Frequency Analysis\n",
    "                ax.plot(freq[freq > 0], np.abs(data[j][freq > 0]), label=f'FFT ({axis.upper()}-axis)')\n",
    "                ax.set_xlabel('Frequency (Hz)')\n",
    "\n",
    "                # Additional lines to annotate dominant frequency and amplitude\n",
    "                pos_freq = freq[freq > 0]\n",
    "                pos_sp = np.abs(sp[freq > 0])\n",
    "                \n",
    "                dominant_frequency = pos_freq[np.argmax(pos_sp)]\n",
    "                amplitude_at_dominant_frequency = np.max(pos_sp)\n",
    "                \n",
    "                ax.annotate(f'Dominant Frequency: {dominant_frequency:.2f} Hz\\nAmplitude: {amplitude_at_dominant_frequency:.2f}', \n",
    "                xy=(dominant_frequency, amplitude_at_dominant_frequency), \n",
    "                xytext=(dominant_frequency + 3, amplitude_at_dominant_frequency),\n",
    "                arrowprops=dict(facecolor='red', arrowstyle='->'),\n",
    "                fontsize=15,\n",
    "                color='red',horizontalalignment='left', verticalalignment='top')\n",
    "                ax.plot(freq[freq > 0], np.abs(data[j][freq > 0]), label=f'FFT ({axis.upper()}-axis)')\n",
    "                                \n",
    "            ax.set_title(f'{titles[j]} ({axis.upper()}-axis)') #,y=1.08 for move subtitle upper side\n",
    "            ax.set_ylabel(ylabels[j])\n",
    "            \n",
    "    \n",
    "    # Create the folder if it doesn't exist\n",
    "    if not os.path.exists(folder_to_save):\n",
    "        os.makedirs(folder_to_save)\n",
    "\n",
    "    # Save the figure in the designated folder\n",
    "    plt.savefig(os.path.join(folder_to_save, f\"{full_title}.png\"))\n",
    "    #plt.tight_layout(pad=3.0)\n",
    "    #plt.subplots_adjust(hspace=0.5)\n",
    "    #plt.show()    \n",
    "\n",
    "# Run the function on the dataset\n",
    "# plot_movement_grav_HF_anno('jog_9/sub_7.csv', 'Plots')"
   ]
  },
  {
   "cell_type": "code",
   "execution_count": null,
   "id": "43f48e14",
   "metadata": {},
   "outputs": [],
   "source": []
  },
  {
   "cell_type": "code",
   "execution_count": null,
   "id": "d45643a6",
   "metadata": {},
   "outputs": [],
   "source": []
  },
  {
   "cell_type": "code",
   "execution_count": null,
   "id": "3253fef8",
   "metadata": {},
   "outputs": [],
   "source": []
  },
  {
   "cell_type": "code",
   "execution_count": null,
   "id": "49872bd1",
   "metadata": {},
   "outputs": [],
   "source": []
  },
  {
   "cell_type": "code",
   "execution_count": null,
   "id": "a311aea7",
   "metadata": {},
   "outputs": [],
   "source": []
  },
  {
   "cell_type": "code",
   "execution_count": null,
   "id": "768998ab",
   "metadata": {},
   "outputs": [],
   "source": []
  },
  {
   "cell_type": "code",
   "execution_count": null,
   "id": "d5a15556",
   "metadata": {},
   "outputs": [],
   "source": []
  },
  {
   "cell_type": "code",
   "execution_count": null,
   "id": "0d808dec",
   "metadata": {},
   "outputs": [],
   "source": []
  },
  {
   "cell_type": "code",
   "execution_count": null,
   "id": "09909743",
   "metadata": {},
   "outputs": [],
   "source": []
  },
  {
   "cell_type": "markdown",
   "id": "fc59f2bb",
   "metadata": {},
   "source": [
    "### Now let's Train a machine learning model \n",
    "- ##### objective : to classify types of activity being performed."
   ]
  },
  {
   "cell_type": "markdown",
   "id": "0917b82c",
   "metadata": {},
   "source": [
    "- combine all data into 1 big dataframe\n",
    "- add label to another column"
   ]
  },
  {
   "cell_type": "code",
   "execution_count": null,
   "id": "0715f2cb",
   "metadata": {},
   "outputs": [],
   "source": [
    "# folders = ['dws_1','dws_2','dws_11','jog_9','jog_16','sit_5','sit_13','std_6','std_14','ups_3','ups_4','ups_12','wlk_7','wlk_8','wlk_15']\n",
    "folders = ['dws_1','dws_2','dws_11','jog_9','jog_16','sit_5','sit_13','std_6','std_14','ups_3','ups_4','ups_12','wlk_7','wlk_8','wlk_15']\n",
    "all_data = [] # This list will store all the data\n",
    "\n",
    "\n",
    "# ex) df = pd.read_csv('./Motion/jog_9/sub_7.csv')\n",
    "\n",
    "for folder in folders:\n",
    "    for i in range(1,24):\n",
    "        file_path = f'./Motion/{folder}/sub_{i}.csv'\n",
    "        df = pd.read_csv(file_path)\n",
    "        df['activity'] = folder[:3]\n",
    "        all_data.append(df)\n",
    "\n",
    "df_all = pd.concat(all_data, ignore_index=True)"
   ]
  },
  {
   "cell_type": "code",
   "execution_count": null,
   "id": "30999a67",
   "metadata": {},
   "outputs": [],
   "source": [
    "df_all"
   ]
  },
  {
   "cell_type": "code",
   "execution_count": null,
   "id": "062d4162",
   "metadata": {},
   "outputs": [],
   "source": []
  },
  {
   "cell_type": "code",
   "execution_count": null,
   "id": "1cae1d25",
   "metadata": {},
   "outputs": [],
   "source": []
  },
  {
   "cell_type": "code",
   "execution_count": null,
   "id": "5bbc395d",
   "metadata": {},
   "outputs": [],
   "source": []
  },
  {
   "cell_type": "code",
   "execution_count": null,
   "id": "ed3f9153",
   "metadata": {},
   "outputs": [],
   "source": []
  },
  {
   "cell_type": "code",
   "execution_count": null,
   "id": "d2eb394d",
   "metadata": {},
   "outputs": [],
   "source": []
  },
  {
   "cell_type": "code",
   "execution_count": null,
   "id": "7e1298cd",
   "metadata": {},
   "outputs": [],
   "source": []
  },
  {
   "cell_type": "code",
   "execution_count": null,
   "id": "56377566",
   "metadata": {},
   "outputs": [],
   "source": []
  },
  {
   "cell_type": "code",
   "execution_count": null,
   "id": "86bf1159",
   "metadata": {},
   "outputs": [],
   "source": []
  },
  {
   "cell_type": "code",
   "execution_count": null,
   "id": "5b51fcdd",
   "metadata": {},
   "outputs": [],
   "source": []
  },
  {
   "cell_type": "code",
   "execution_count": null,
   "id": "6fb66784",
   "metadata": {},
   "outputs": [],
   "source": []
  },
  {
   "cell_type": "markdown",
   "id": "dd5bd60f",
   "metadata": {},
   "source": [
    "## Experiment \n",
    "### To compare"
   ]
  },
  {
   "cell_type": "code",
   "execution_count": null,
   "id": "e57c5944",
   "metadata": {},
   "outputs": [],
   "source": [
    "'''\n",
    "dws_1\n",
    "dws_2\n",
    "dws_11\n",
    "jog_9\n",
    "jog_16\n",
    "sit_5\n",
    "sit_13\n",
    "std_6\n",
    "std_14\n",
    "ups_3\n",
    "ups_4\n",
    "ups_12\n",
    "wlk_7\n",
    "wlk_8\n",
    "wlk_15\n",
    "\n",
    "'dws_1','dws_2','dws_11','jog_9','jog_16',\n",
    "'''\n",
    "folders = ['sit_5','sit_13','std_6','std_14','ups_3','ups_4','ups_12','wlk_7','wlk_8','wlk_15']\n",
    "\n",
    "#plot_movement_grav('dws_1/sub_7.csv')\n",
    "for folder in folders:\n",
    "    for _ in range(1,24):\n",
    "        plot_movement_grav_HF_anno(f'{folder}/sub_{_}.csv','Plots')\n"
   ]
  },
  {
   "cell_type": "code",
   "execution_count": null,
   "id": "771fb275",
   "metadata": {},
   "outputs": [],
   "source": [
    "plot_movement('jog_9/sub_1.csv')"
   ]
  },
  {
   "cell_type": "code",
   "execution_count": null,
   "id": "1015eab7",
   "metadata": {},
   "outputs": [],
   "source": [
    "\n",
    "\n",
    "# Assuming df is your DataFrame and 'activity_label' is the column that has activity labels\n",
    "# Add a kinetic energy column (Assuming velocity is already calculated and stored as 'velocity' column)\n",
    "df['kinetic_energy'] = 0.5 * df['velocity'] ** 2\n",
    "\n",
    "# Features and Labels\n",
    "X = df[['kinetic_energy', 'velocity', 'userAcceleration.x', 'userAcceleration.y', 'userAcceleration.z']]\n",
    "y = df['activity_label']\n",
    "\n",
    "# Train-Test Split\n",
    "X_train, X_test, y_train, y_test = train_test_split(X, y, test_size=0.2, random_state=42)\n",
    "\n",
    "# Model Training\n",
    "clf = RandomForestClassifier()\n",
    "clf.fit(X_train, y_train)\n",
    "\n",
    "# Model Evaluation\n",
    "y_pred = clf.predict(X_test)\n",
    "print(\"Accuracy:\", accuracy_score(y_test, y_pred))\n"
   ]
  },
  {
   "cell_type": "code",
   "execution_count": null,
   "id": "708deb0f",
   "metadata": {},
   "outputs": [],
   "source": [
    "for j in range(4):\n",
    "    ax = axs[i, j]\n",
    "    if j < 3:  # For Acceleration, Velocity, and Position\n",
    "        ax.plot(time, data[j], label=f'{titles[j]} ({axis.upper()}-axis)')\n",
    "        \n",
    "        # Add average line for Velocity plot\n",
    "        if titles[j] == 'Velocity':\n",
    "            avg_velocity = np.mean(data[j])\n",
    "            ax.axhline(y=avg_velocity, color='r', linestyle='--', label=f'Average Velocity = {avg_velocity:.2f}')\n",
    "\n",
    "        ax.set_xlabel('Time (s)')\n",
    "    # ... (rest of your code)\n"
   ]
  },
  {
   "cell_type": "code",
   "execution_count": null,
   "id": "9c0bc661",
   "metadata": {},
   "outputs": [],
   "source": []
  },
  {
   "cell_type": "code",
   "execution_count": null,
   "id": "5886f8fc",
   "metadata": {},
   "outputs": [],
   "source": []
  },
  {
   "cell_type": "code",
   "execution_count": null,
   "id": "cb6f9290",
   "metadata": {},
   "outputs": [],
   "source": []
  },
  {
   "cell_type": "markdown",
   "id": "01ef5e47",
   "metadata": {},
   "source": []
  }
 ],
 "metadata": {
  "kernelspec": {
   "display_name": "Python 3 (ipykernel)",
   "language": "python",
   "name": "python3"
  },
  "language_info": {
   "codemirror_mode": {
    "name": "ipython",
    "version": 3
   },
   "file_extension": ".py",
   "mimetype": "text/x-python",
   "name": "python",
   "nbconvert_exporter": "python",
   "pygments_lexer": "ipython3",
   "version": "3.9.13"
  }
 },
 "nbformat": 4,
 "nbformat_minor": 5
}
