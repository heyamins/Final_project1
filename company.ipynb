{
 "cells": [
  {
   "cell_type": "code",
   "execution_count": 4,
   "id": "7e594cfc",
   "metadata": {},
   "outputs": [
    {
     "data": {
      "text/plain": [
       "True"
      ]
     },
     "execution_count": 4,
     "metadata": {},
     "output_type": "execute_result"
    }
   ],
   "source": [
    "import gzip\n",
    "import shutil\n",
    "import os\n",
    "\n",
    "# Define the file paths\n",
    "input_file_path = './v.res.gz'\n",
    "output_file_path = './v.res'\n",
    "\n",
    "# Unzip the .gz file\n",
    "with gzip.open(input_file_path, 'rb') as f_in:\n",
    "    with open(output_file_path, 'wb') as f_out:\n",
    "        shutil.copyfileobj(f_in, f_out)\n",
    "\n",
    "# Check if the output file exists\n",
    "os.path.exists(output_file_path)\n"
   ]
  },
  {
   "cell_type": "code",
   "execution_count": null,
   "id": "556f3850",
   "metadata": {},
   "outputs": [],
   "source": []
  },
  {
   "cell_type": "code",
   "execution_count": 7,
   "id": "bc3355bf",
   "metadata": {},
   "outputs": [
    {
     "data": {
      "text/plain": [
       "'17faae4e0b097365745f646566696e69  ...N..set_defini\\n74696f6e5f7631000b097369676e616c  tion_v1...signal\\n73000a000966696c74657273000a0009  s....filters....\\n64616373000a0000097365745f726573  dacs.....set_res\\n756c745f7631000b09646174615f7472  ult_v1...data_tr\\n6163655f7365745f696e666f000b096e  ace_set_info...n\\n616d6500095657485f4558455f42475f  ame..VWH_EXE_BG_\\n54524143450009646573637269707469  TRACE..descripti\\n6f6e0009000974797065000955534552  on....type..USER\\n5f4241434b47524f554e440009737461  _BACKGROUND..sta\\n72745f74696d6500095468752c203031  rt_time..Thu, 01\\n204a616e20313937302030313a30303a   Jan 1970 01:00:\\n3030203030303030307573202b303130  00 000000us +010\\n300009656e645f74696d650009576564  0..end_time..Wed\\n2c203331204465632032303336203233  , 31 Dec 2036 23\\n3a35393a353920303030303030757320  :59:59 000000us '"
      ]
     },
     "execution_count": 7,
     "metadata": {},
     "output_type": "execute_result"
    }
   ],
   "source": [
    "# Convert the hex data to ASCII to attempt to find any readable strings\n",
    "ascii_preview = ''.join(chr(byte) if 32 <= byte < 128 else '.' for byte in hex_data)\n",
    "\n",
    "# Combine hex and ASCII for a simple hex dump view\n",
    "hex_dump_lines = []\n",
    "for i in range(0, len(hex_preview), 32):\n",
    "    hex_part = hex_preview[i:i+32]\n",
    "    ascii_part = ascii_preview[int(i/2):int(i/2)+16]\n",
    "    hex_dump_lines.append(f\"{hex_part}  {ascii_part}\")\n",
    "\n",
    "# Show the formatted hex dump\n",
    "hex_dump = '\\n'.join(hex_dump_lines)\n",
    "hex_dump"
   ]
  },
  {
   "cell_type": "code",
   "execution_count": 9,
   "id": "89cd467e",
   "metadata": {},
   "outputs": [
    {
     "data": {
      "text/html": [
       "<div>\n",
       "<style scoped>\n",
       "    .dataframe tbody tr th:only-of-type {\n",
       "        vertical-align: middle;\n",
       "    }\n",
       "\n",
       "    .dataframe tbody tr th {\n",
       "        vertical-align: top;\n",
       "    }\n",
       "\n",
       "    .dataframe thead th {\n",
       "        text-align: right;\n",
       "    }\n",
       "</style>\n",
       "<table border=\"1\" class=\"dataframe\">\n",
       "  <thead>\n",
       "    <tr style=\"text-align: right;\">\n",
       "      <th></th>\n",
       "      <th>Position</th>\n",
       "      <th>String</th>\n",
       "    </tr>\n",
       "  </thead>\n",
       "  <tbody>\n",
       "    <tr>\n",
       "      <th>0</th>\n",
       "      <td>0</td>\n",
       "      <td>...N..set_definition_v1...signals....filters.....</td>\n",
       "    </tr>\n",
       "    <tr>\n",
       "      <th>1</th>\n",
       "      <td>5719</td>\n",
       "      <td>.v.............t..?.9X.bM..v.............t..?....</td>\n",
       "    </tr>\n",
       "    <tr>\n",
       "      <th>2</th>\n",
       "      <td>9801</td>\n",
       "      <td>.v.............t..?.(...\\).v.............t..?....</td>\n",
       "    </tr>\n",
       "    <tr>\n",
       "      <th>3</th>\n",
       "      <td>13051</td>\n",
       "      <td>.v.............t..?.(...\\).v.............t..?....</td>\n",
       "    </tr>\n",
       "    <tr>\n",
       "      <th>4</th>\n",
       "      <td>14715</td>\n",
       "      <td>.v.............t..?. ....T.v.............t..?....</td>\n",
       "    </tr>\n",
       "    <tr>\n",
       "      <th>...</th>\n",
       "      <td>...</td>\n",
       "      <td>...</td>\n",
       "    </tr>\n",
       "    <tr>\n",
       "      <th>45006</th>\n",
       "      <td>42707873</td>\n",
       "      <td>.v..A%..qhr....t..@/...+...v..A%...p.....t..@/...</td>\n",
       "    </tr>\n",
       "    <tr>\n",
       "      <th>45007</th>\n",
       "      <td>42711123</td>\n",
       "      <td>.v..A%...p.....t..@/...+...v..A%...p.....t..@/...</td>\n",
       "    </tr>\n",
       "    <tr>\n",
       "      <th>45008</th>\n",
       "      <td>42715621</td>\n",
       "      <td>.v..A%...p.....t..@0.....F.v..A%...p.....t..@0...</td>\n",
       "    </tr>\n",
       "    <tr>\n",
       "      <th>45009</th>\n",
       "      <td>42718871</td>\n",
       "      <td>.v..A%...p.....t..@08....F.v..A%...p.....t..@0...</td>\n",
       "    </tr>\n",
       "    <tr>\n",
       "      <th>45010</th>\n",
       "      <td>42722121</td>\n",
       "      <td>.v..A%...p.....t..@0X....F.v..A%...p.....t..@0...</td>\n",
       "    </tr>\n",
       "  </tbody>\n",
       "</table>\n",
       "<p>45011 rows × 2 columns</p>\n",
       "</div>"
      ],
      "text/plain": [
       "       Position                                             String\n",
       "0             0  ...N..set_definition_v1...signals....filters.....\n",
       "1          5719  .v.............t..?.9X.bM..v.............t..?....\n",
       "2          9801  .v.............t..?.(...\\).v.............t..?....\n",
       "3         13051  .v.............t..?.(...\\).v.............t..?....\n",
       "4         14715  .v.............t..?. ....T.v.............t..?....\n",
       "...         ...                                                ...\n",
       "45006  42707873  .v..A%..qhr....t..@/...+...v..A%...p.....t..@/...\n",
       "45007  42711123  .v..A%...p.....t..@/...+...v..A%...p.....t..@/...\n",
       "45008  42715621  .v..A%...p.....t..@0.....F.v..A%...p.....t..@0...\n",
       "45009  42718871  .v..A%...p.....t..@08....F.v..A%...p.....t..@0...\n",
       "45010  42722121  .v..A%...p.....t..@0X....F.v..A%...p.....t..@0...\n",
       "\n",
       "[45011 rows x 2 columns]"
      ]
     },
     "execution_count": 9,
     "metadata": {},
     "output_type": "execute_result"
    }
   ],
   "source": [
    "import pandas as pd\n",
    "import re\n",
    "\n",
    "# Read the entire binary content of the file\n",
    "with open(output_file_path, 'rb') as f:\n",
    "    entire_file_data = f.read()\n",
    "\n",
    "# Convert the binary data to ASCII to attempt to find any readable strings\n",
    "entire_ascii = ''.join(chr(byte) if 32 <= byte < 128 else '.' for byte in entire_file_data)\n",
    "\n",
    "# Use regular expression to find readable text strings and their starting positions\n",
    "pattern = re.compile(r'[\\x20-\\x7E]{4,}')  # At least 4 consecutive readable ASCII characters\n",
    "matches = [(m.start(), m.group()) for m in pattern.finditer(entire_ascii)]\n",
    "\n",
    "# Create a Pandas DataFrame from the matches\n",
    "df = pd.DataFrame(matches, columns=['Position', 'String'])\n",
    "\n",
    "# Show the first few rows of the DataFrame\n",
    "df\n"
   ]
  },
  {
   "cell_type": "code",
   "execution_count": null,
   "id": "42a018da",
   "metadata": {},
   "outputs": [],
   "source": []
  },
  {
   "cell_type": "code",
   "execution_count": null,
   "id": "79d76117",
   "metadata": {},
   "outputs": [],
   "source": []
  },
  {
   "cell_type": "code",
   "execution_count": null,
   "id": "c1044502",
   "metadata": {},
   "outputs": [],
   "source": []
  },
  {
   "cell_type": "code",
   "execution_count": null,
   "id": "42c38db7",
   "metadata": {},
   "outputs": [],
   "source": []
  }
 ],
 "metadata": {
  "kernelspec": {
   "display_name": "Python 3 (ipykernel)",
   "language": "python",
   "name": "python3"
  },
  "language_info": {
   "codemirror_mode": {
    "name": "ipython",
    "version": 3
   },
   "file_extension": ".py",
   "mimetype": "text/x-python",
   "name": "python",
   "nbconvert_exporter": "python",
   "pygments_lexer": "ipython3",
   "version": "3.9.13"
  }
 },
 "nbformat": 4,
 "nbformat_minor": 5
}
